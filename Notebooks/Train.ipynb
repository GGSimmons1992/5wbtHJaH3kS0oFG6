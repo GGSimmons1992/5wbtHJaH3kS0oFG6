{
 "cells": [
  {
   "cell_type": "code",
   "execution_count": 1,
   "id": "b4e52fe3-4983-469c-a690-14b6dde0a66b",
   "metadata": {},
   "outputs": [
    {
     "data": {
      "application/javascript": [
       "IPython.notebook.set_autosave_interval(5000)"
      ]
     },
     "metadata": {},
     "output_type": "display_data"
    },
    {
     "name": "stdout",
     "output_type": "stream",
     "text": [
      "Autosaving every 5 seconds\n"
     ]
    },
    {
     "data": {
      "application/javascript": [
       "IPython.notebook.set_autosave_interval(5000)"
      ]
     },
     "metadata": {},
     "output_type": "display_data"
    },
    {
     "name": "stdout",
     "output_type": "stream",
     "text": [
      "Autosaving every 5 seconds\n"
     ]
    }
   ],
   "source": [
    "import warnings\n",
    "import tensorflow as tf\n",
    "warnings.filterwarnings('ignore')\n",
    "tf.get_logger().setLevel('ERROR')\n",
    "import numpy as np\n",
    "import pandas as pd\n",
    "import yfinance as yf\n",
    "from statsmodels.tsa.arima.model import ARIMA\n",
    "from statsmodels.graphics.tsaplots import plot_acf,plot_pacf\n",
    "from statsmodels.tsa.stattools import adfuller\n",
    "import matplotlib.pyplot as plt\n",
    "import pmdarima as pm\n",
    "from statsmodels.tsa.api import AutoReg\n",
    "import pickle\n",
    "from statsmodels.tsa.holtwinters import SimpleExpSmoothing, Holt, ExponentialSmoothing\n",
    "from sklearn.metrics import mean_absolute_error\n",
    "from prophet import Prophet\n",
    "from tensorflow.keras.models import Sequential\n",
    "from tensorflow.keras.layers import LSTM, Dense\n",
    "import json\n",
    "import os\n",
    "from os.path import exists\n",
    "\n",
    "import sys\n",
    "sys.path.insert(0, \"../Src/\")\n",
    "import loadData\n",
    "\n",
    "%autosave 5"
   ]
  },
  {
   "cell_type": "code",
   "execution_count": 2,
   "id": "e9936eb7-b235-4e0d-9104-a75a27479462",
   "metadata": {},
   "outputs": [],
   "source": [
    "def stabalize(data):\n",
    "    p = 100\n",
    "    while p > 0.05:\n",
    "        adfTest = adfuller(data)\n",
    "        p = adfTest[1]\n",
    "        print(f'p: {adfTest[1]}')\n",
    "        if p > 0.05:\n",
    "            data = data.diff().dropna()\n",
    "    return data"
   ]
  },
  {
   "cell_type": "code",
   "execution_count": 3,
   "id": "7560d77b-e6e9-4149-a751-f9220615ff61",
   "metadata": {},
   "outputs": [],
   "source": [
    "def trainArima(data):\n",
    "    print('Training ARIMA')\n",
    "    data = stabalize(data)\n",
    "    possibleP = np.arange(5)\n",
    "    possibleD = np.arange(5)\n",
    "    possibleQ = np.arange(5)\n",
    "\n",
    "    train, dev = trainDevSplit(data)\n",
    "\n",
    "    bestArima = None\n",
    "    bestMAE = np.inf\n",
    "    bestP, bestQ = 0, 0\n",
    "\n",
    "    for _ in range(20):\n",
    "        p = np.random.choice(possibleP)\n",
    "        d = np.random.choice(possibleD)\n",
    "        q = np.random.choice(possibleQ)\n",
    "        arima = ARIMA(train, order=(p, d, q))\n",
    "        arimaFit = arima.fit()\n",
    "        forecast = arimaFit.forecast(len(dev))\n",
    "        mae = mean_absolute_error(dev, forecast)\n",
    "        if mae < bestMAE:\n",
    "            bestMAE = mae\n",
    "            bestP, bestD, bestQ = p, d, q\n",
    "    arima = ARIMA(data, order=(bestP, bestD, bestQ))\n",
    "    arimaFit = arima.fit()\n",
    "    print(arimaFit.summary())\n",
    "    residuals = arimaFit.resid[1:]\n",
    "\n",
    "    fig,ax = plt.subplots(1,2)\n",
    "    residuals.plot(title = 'Residuals', ax = ax[0])\n",
    "    residuals.plot(title = 'Density', kind = 'kde', ax = ax[1])\n",
    "\n",
    "    saveModel(arimaFit, 'arima')\n",
    "    return arimaFit"
   ]
  },
  {
   "cell_type": "code",
   "execution_count": 4,
   "id": "f89b55c0-fda7-4d77-82b1-0642bf525ece",
   "metadata": {},
   "outputs": [],
   "source": [
    "def saveModel(model,name):\n",
    "    filename = f'../Models/{name}.pkl'\n",
    "    if name in ['autoRegression','sarima','ExponentialSmoothing', 'prophet']:\n",
    "        with open(filename, 'wb') as pkl:\n",
    "            pickle.dump(model, pkl)\n",
    "    else:\n",
    "        model.save(filename)"
   ]
  },
  {
   "cell_type": "code",
   "execution_count": 5,
   "id": "a61f8762-01a7-47b9-9e27-789a324925b0",
   "metadata": {},
   "outputs": [],
   "source": [
    "def trainSarima(train):\n",
    "    print('Training Sarima')\n",
    "    sarima = pm.auto_arima(train,stepwise=True,seasonal=True)\n",
    "    print(sarima.summary())\n",
    "    saveModel(sarima,'sarima')\n",
    "    return sarima"
   ]
  },
  {
   "cell_type": "code",
   "execution_count": 6,
   "id": "52d949bf-ca88-4e3c-b4e9-3739a5127e6f",
   "metadata": {},
   "outputs": [],
   "source": [
    "def trainAutoRegression(data):\n",
    "    print('Training AutoRegression')\n",
    "    bestLag = 0\n",
    "    bestCorr = 0\n",
    "    for lag in range(1,11):\n",
    "        corr = data.corr(data.shift(lag))\n",
    "        if corr > bestCorr:\n",
    "            bestLag = lag\n",
    "            bestCorr = corr\n",
    "    print(f'AR order = {bestLag}')\n",
    "    ar_model = AutoReg(data, lags=bestLag)\n",
    "    ar_model = ar_model.fit()\n",
    "    saveModel(ar_model,'autoRegression')\n",
    "    return ar_model\n",
    "    "
   ]
  },
  {
   "cell_type": "code",
   "execution_count": 7,
   "id": "04c8bcf4-e13c-43f0-a3b4-3edb4b7e92d5",
   "metadata": {},
   "outputs": [],
   "source": [
    "def trainExponentialSmoothing(data):\n",
    "    print('Training ExponentialSmoothing')\n",
    "    arrayData = np.asarray(data)\n",
    "    trainDevCutOff = int(len(arrayData) * 0.8)\n",
    "    train = arrayData[:trainDevCutOff]\n",
    "    dev = arrayData[trainDevCutOff:]\n",
    "\n",
    "    possibleModels = [SimpleExpSmoothing, Holt, ExponentialSmoothing]\n",
    "    possibleModelNames = [\"SimpleExpSmoothing\", \"Holt\", \"ExponentialSmoothing\"]\n",
    "    bestMAE = np.inf\n",
    "\n",
    "    bestModelIndex = 0\n",
    "    bestSmoothingLevel = 0\n",
    "    for _ in range(20):\n",
    "        smoothingLevel = np.random.uniform(0.1, 0.9)\n",
    "        modelIndex = np.random.choice(len(possibleModels))\n",
    "        modelConstructor = possibleModels[modelIndex]\n",
    "        model = modelConstructor(train)\n",
    "        model_fit = model.fit(smoothing_level=smoothingLevel)\n",
    "        forecast = model_fit.forecast(len(dev))\n",
    "        mae = mean_absolute_error(dev, forecast)\n",
    "        if mae < bestMAE:\n",
    "            bestMAE = mae\n",
    "            bestModelIndex = modelIndex\n",
    "            bestSmoothingLevel = smoothingLevel\n",
    "            \n",
    "    print(f'model chosen {possibleModelNames[bestModelIndex]}')\n",
    "    print(f'smoothing parameter {bestSmoothingLevel}')\n",
    "    finalModelConstructor = possibleModels[bestModelIndex]\n",
    "    final_model = finalModelConstructor(arrayData)\n",
    "    final_model_fit = final_model.fit(smoothing_level=bestSmoothingLevel)\n",
    "    \n",
    "    saveModel(final_model_fit, 'ExponentialSmoothing')\n",
    "    return model\n",
    "    "
   ]
  },
  {
   "cell_type": "code",
   "execution_count": 8,
   "id": "b196eb96-da6c-4756-a053-f807f707e3bc",
   "metadata": {},
   "outputs": [],
   "source": [
    "def trainProphet(data):\n",
    "    print('Training Prophet')\n",
    "    train, dev = trainDevSplit(data)\n",
    "    display(train)\n",
    "    display(dev)\n",
    "\n",
    "    bestMAE = np.inf\n",
    "    bestParams = {}\n",
    "    \n",
    "    for _ in range(20):\n",
    "        params = retrieveProphetParams()\n",
    "        model = Prophet(**params)\n",
    "        model.fit(train)\n",
    "        \n",
    "        future = model.make_future_dataframe(periods=dev.shape[0], freq='D')\n",
    "        capValue = dev['y'].max() * 1.1\n",
    "        future['cap'] = capValue\n",
    "        future['floor'] = 0\n",
    "        forecast = model.predict(future)\n",
    "        forecast = forecast.iloc[-dev.shape[0]:]\n",
    "        \n",
    "        mae = mean_absolute_error(dev['y'], forecast['yhat'])\n",
    "        \n",
    "        if mae < bestMAE:\n",
    "            bestMAE = mae\n",
    "            bestParams = params\n",
    "            \n",
    "\n",
    "    model = Prophet(**bestParams)\n",
    "    model.fit(data)\n",
    "    \n",
    "    saveModel(model, 'prophet')\n",
    "    return model\n",
    "        "
   ]
  },
  {
   "cell_type": "code",
   "execution_count": 9,
   "id": "12142fea-cf68-4193-9900-65b06caa71ae",
   "metadata": {},
   "outputs": [],
   "source": [
    "def retrieveProphetParams():\n",
    "    param_space = { 'growth' :['linear', 'logistic', 'flat'],\n",
    "                   'n_changepoints': np.arange(0, 55, 5),\n",
    "                   'changepoint_range': (0.5, 0.5),\n",
    "                   'yearly_seasonality': [True, False],\n",
    "                   'weekly_seasonality': [True, False],\n",
    "                   'daily_seasonality': [True, False],\n",
    "                   'seasonality_mode': ['additive', 'multiplicative'],\n",
    "                   'seasonality_prior_scale': (5.0, 15.0),\n",
    "                   'changepoint_prior_scale': (0.0, 0.1),\n",
    "                   'interval_width': (0.2, 0.8),\n",
    "                   'uncertainty_samples': [500, 1000, 1500, 2000]\n",
    "                  }\n",
    "    chosenParameters = dict()\n",
    "    for key in param_space:\n",
    "        if key in ['changepoint_range','seasonality_prior_scale','changepoint_prior_scale','interval_width']:\n",
    "            bounds = param_space[key]\n",
    "            chosenParameters[key] = np.random.uniform(bounds[0],bounds[1])\n",
    "        else:\n",
    "            chosenParameters[key] = np.random.choice(param_space[key])\n",
    "    return chosenParameters\n",
    "    "
   ]
  },
  {
   "cell_type": "code",
   "execution_count": 10,
   "id": "799203bf-0e4e-430c-aaa8-7581cf1dc9d4",
   "metadata": {},
   "outputs": [],
   "source": [
    "def trainLSTM(data):\n",
    "    train, dev = trainDevSplit(data)\n",
    "    XData, yData = loadData.processDataForLSTM(data)\n",
    "    XTrain, yTrain = loadData.processDataForLSTM(train)\n",
    "    XDev, yDev = loadData.processDataForLSTM(dev)\n",
    "    \n",
    "    bestTrainScore = np.inf\n",
    "    bestDevScore = np.inf\n",
    "    bestLSTMUnits1 = 0\n",
    "    bestLSTMUnits2 = 0\n",
    "    bestEpochs = 0\n",
    "    for trial in range(20):    \n",
    "        lstmUnits1 = np.random.choice(range(1,128))\n",
    "        lstmUnits2 = np.random.choice(range(1,128))\n",
    "        epochs = np.random.choice(range(1,100))\n",
    "\n",
    "        model = compileLSTM(XTrain,yTrain,lstmUnits1,lstmUnits2,epochs)\n",
    "        \n",
    "        devScore = model.evaluate(XDev,yDev)[1]\n",
    "        if devScore < bestDevScore:\n",
    "            bestTrainScore = model.evaluate(XTrain,yTrain)[1]\n",
    "            bestDevScore = devScore\n",
    "            bestLSTMUnits1 = lstmUnits1\n",
    "            bestLSTMUnits2 = lstmUnits2\n",
    "            bestEpochs = epochs\n",
    "    compileLSTM(XData,yData,bestLSTMUnits1,bestLSTMUnits2,bestEpochs)\n",
    "    \n",
    "    model_path = f'../Models/LSTM_.h5'\n",
    "    model.save(model_path)\n",
    "    bestModelParams = {\n",
    "        'bestTrainScore': int(bestTrainScore),\n",
    "        'bestDevScore': int(bestDevScore),\n",
    "        'bestLSTMUnits1': int(bestLSTMUnits1),\n",
    "        'bestLSTMUnits2': int(bestLSTMUnits2),\n",
    "        'bestEpochs': int(bestEpochs)\n",
    "    }\n",
    "    with open('../Models/lstm_params.json', 'w') as f:\n",
    "        json.dump(bestModelParams, f)\n",
    "    \n",
    "    return model\n",
    "        "
   ]
  },
  {
   "cell_type": "code",
   "execution_count": 11,
   "id": "ff945e32-0fa2-4c1c-80ac-0bd5aaa61fcf",
   "metadata": {},
   "outputs": [],
   "source": [
    "def trainDevSplit(data):\n",
    "    totalRows = data.shape[0]\n",
    "    trainDevCutoff = int(0.8 * totalRows)\n",
    "    train = data.iloc[:trainDevCutoff]\n",
    "    dev = data.iloc[trainDevCutoff:]\n",
    "    return train,dev"
   ]
  },
  {
   "cell_type": "code",
   "execution_count": 12,
   "id": "b2f8c165-cdb7-4581-afdc-420bedb170c8",
   "metadata": {},
   "outputs": [],
   "source": [
    "def compileLSTM(X,y,lstmUnits1,lstmUnits2,epochs):\n",
    "    model = Sequential()\n",
    "    model.add(LSTM(units=lstmUnits1, return_sequences=True, input_shape=(X.shape[1], 1)))\n",
    "    model.add(LSTM(units=lstmUnits2))\n",
    "    model.add(Dense(units=1))\n",
    "    model.compile(optimizer='adam', loss='mean_absolute_error',metrics=['mean_absolute_error'])\n",
    "    model.fit(X, y, epochs=epochs, batch_size=32,verbose=0)\n",
    "    return model"
   ]
  },
  {
   "cell_type": "code",
   "execution_count": 13,
   "id": "2095516a-38ef-43ae-8951-0492880fd2c7",
   "metadata": {},
   "outputs": [],
   "source": [
    "def main():\n",
    "    train, test = loadData.loadData('MSFT')\n",
    "    if exists('../Models/autoRegression.pkl') == False:\n",
    "        trainAutoRegression(train['y'])\n",
    "    if exists('../Models/arima.pkl') == False:\n",
    "        trainArima(train['y'])\n",
    "    if exists('../Models/sarima.pkl') == False:\n",
    "        trainSarima(train['y'])\n",
    "    if exists('../Models/ExponentialSmoothing.pkl') == False:\n",
    "        trainExponentialSmoothing(train['y'])\n",
    "    if exists('../Models/prophet.pkl') == False:\n",
    "        trainProphet(train)\n",
    "    \n",
    "    if exists('../Models/LSTM_.h5') == False:\n",
    "        trainLSTM(train['y'])"
   ]
  },
  {
   "cell_type": "code",
   "execution_count": 14,
   "id": "ac441b9f-947a-4f03-b66c-8168c679f41a",
   "metadata": {},
   "outputs": [
    {
     "name": "stderr",
     "output_type": "stream",
     "text": [
      "[*********************100%***********************]  1 of 1 completed\n",
      "[*********************100%***********************]  1 of 1 completed\n"
     ]
    },
    {
     "name": "stdout",
     "output_type": "stream",
     "text": [
      "Training ARIMA\n",
      "p: 0.8724888850412795\n",
      "p: 1.2499416193356876e-18\n",
      "                               SARIMAX Results                                \n",
      "==============================================================================\n",
      "Dep. Variable:                      y   No. Observations:                 1046\n",
      "Model:                 ARIMA(1, 0, 2)   Log Likelihood               -3125.956\n",
      "Date:                Sun, 24 Nov 2024   AIC                           6261.912\n",
      "Time:                        22:29:44   BIC                           6286.676\n",
      "Sample:                             0   HQIC                          6271.303\n",
      "                               - 1046                                         \n",
      "Covariance Type:                  opg                                         \n",
      "==============================================================================\n",
      "                 coef    std err          z      P>|z|      [0.025      0.975]\n",
      "------------------------------------------------------------------------------\n",
      "const          0.2415      0.129      1.871      0.061      -0.011       0.494\n",
      "ar.L1          0.3436      0.844      0.407      0.684      -1.311       1.998\n",
      "ma.L1         -0.4527      0.844     -0.536      0.592      -2.108       1.202\n",
      "ma.L2          0.0104      0.105      0.099      0.921      -0.195       0.215\n",
      "sigma2        23.0837      0.813     28.407      0.000      21.491      24.676\n",
      "===================================================================================\n",
      "Ljung-Box (L1) (Q):                   0.00   Jarque-Bera (JB):                83.79\n",
      "Prob(Q):                              1.00   Prob(JB):                         0.00\n",
      "Heteroskedasticity (H):               1.28   Skew:                            -0.17\n",
      "Prob(H) (two-sided):                  0.02   Kurtosis:                         4.34\n",
      "===================================================================================\n",
      "\n",
      "Warnings:\n",
      "[1] Covariance matrix calculated using the outer product of gradients (complex-step).\n"
     ]
    },
    {
     "data": {
      "image/png": "[encoded data removed]",
      "text/plain": [
       "<Figure size 640x480 with 2 Axes>"
      ]
     },
     "metadata": {},
     "output_type": "display_data"
    }
   ],
   "source": [
    "if __name__ == '__main__':\n",
    "    main()"
   ]
  }
 ],
 "metadata": {
  "kernelspec": {
   "display_name": "Python 3 (ipykernel)",
   "language": "python",
   "name": "python3"
  },
  "language_info": {
   "codemirror_mode": {
    "name": "ipython",
    "version": 3
   },
   "file_extension": ".py",
   "mimetype": "text/x-python",
   "name": "python",
   "nbconvert_exporter": "python",
   "pygments_lexer": "ipython3",
   "version": "3.11.7"
  }
 },
 "nbformat": 4,
 "nbformat_minor": 5
}
