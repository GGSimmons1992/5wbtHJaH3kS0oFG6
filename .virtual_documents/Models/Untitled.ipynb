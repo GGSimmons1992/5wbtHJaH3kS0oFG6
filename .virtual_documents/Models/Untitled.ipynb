


import warnings
import tensorflow as tf
warnings.filterwarnings('ignore')
tf.get_logger().setLevel('ERROR')

import pickle

import sys
sys.path.insert(0, "../Src/")
import loadData

%autosave 5


train, test = loadData.loadData('MSFT')





with open('../Models/my_data.pkl', 'rb') as file:
    # Load the pickled data
    data = pickle.load(file)















