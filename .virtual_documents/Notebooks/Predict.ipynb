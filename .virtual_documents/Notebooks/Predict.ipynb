import numpy as np
import pandas as pd
import yfinance as yf

import sys
sys.path.insert(0, "../Src/")

%autosave 5
