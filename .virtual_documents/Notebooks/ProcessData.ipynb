import numpy as np
import pandas as pd
import yfinance as yf

import sys
sys.path.insert(0, "../Src/")

%autosave 5


def loadData(ticker):
    train = yf.download(ticker, start="2020-01-01", end="2024-03-01")[['Close']]
    test = yf.download(ticker, start="2024-03-01", end="2024-10-13")[['Close']]
    return train,test


def main():
    train,test = loadData("MSFT")
    display(train)
    display(test)


main()
