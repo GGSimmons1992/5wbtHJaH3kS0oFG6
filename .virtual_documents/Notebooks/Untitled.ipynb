import numpy as np
import pandas as pd
import yfinance as yf

import sys
sys.path.insert(0, "../Src/")

%autosave 5


def loadData(ticker):
    train = yf.download(ticker, start="2023-01-01", end="2024-03-01")
    test = yf.download(ticker, tart="2024-03-01", end="2024-10-13")
    return train,test


def main():
    train,test = loadData("MSFT")
    display(train)
    display(test)


main()
