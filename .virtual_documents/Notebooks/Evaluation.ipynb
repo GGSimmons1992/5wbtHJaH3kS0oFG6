


import warnings
import tensorflow as tf
warnings.filterwarnings('ignore')
tf.get_logger().setLevel('ERROR')

import sys
sys.path.insert(0, "../Src/")
import loadData
import visualization as viz

%autosave 5


_, test = loadData.loadData('MSFT')
date = test['ds']
validation = test['y']






viz.compareSimplePickleModel('autoRegression',date,validation, 'Autoregression')





viz.compareSimplePickleModel('arima',date, validation, 'ARIMA')





viz.compareSimplePickleModel('sarima',date,validation, 'SARIMA')





viz.compareSimplePickleModel('ExponentialSmoothing',date,validation, 'Exponential Smoothing')





model = viz.loadModel('prophet')
future = model.make_future_dataframe(periods=test.shape[0], freq='D')
capValue = test['y'].max() * 1.1
future['cap'] = capValue
future['floor'] = 0
forecast = model.predict(future)
forecast = forecast.iloc[-test.shape[0]:]
viz.compare(date,validation,forecast['yhat'],'Prophet')






