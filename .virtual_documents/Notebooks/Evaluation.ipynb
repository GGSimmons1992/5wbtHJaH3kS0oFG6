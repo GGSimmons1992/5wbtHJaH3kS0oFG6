


import warnings
warnings.filterwarnings('ignore')
import tensorflow as tf
tf.get_logger().setLevel('ERROR')
import numpy as np
import matplotlib.pyplot as plt
import tensorflow.keras as keras
import json
from prophet import Prophet
import pandas as pd

import sys
sys.path.insert(0, "../Src/")
import loadData
import trainModel as tm
import visualization as viz

%autosave 5


data = loadData.loadData('MSFT')






viz.compareSimplePickleModel(data, 'Autoregression','ar_params')





viz.compareSimplePickleModel(data, 'ARIMA','arima_params')





viz.compareSimplePickleModel(data,'SARIMA')





viz.compareSimplePickleModel(data,'Exponential Smoothing','exponentialSmoothing_params')





train,validation = loadData.splitData(data)
with open('../Models/prophet_params.json') as f:
    params = json.load(f)
fullPredict, forecast = tm.makeFullProphetPrediction(params,train,data,periods = 5)
model = Prophet(**params)
model.fit(data)

forecast = forecast.loc[:, ~forecast.columns.duplicated()]
forecast['ds'] = pd.to_datetime(forecast['ds'])
future_forecast = forecast[forecast['ds'] > train['ds'].max()]

fig = model.plot(forecast, xlabel = 'ds', ylabel = 'y')
ax = fig.gca()  # Get current axes
ax.set_xlim([future_forecast['ds'].min(), future_forecast['ds'].max()])
ax.set_ylim([0.90*future_forecast['yhat_lower'].min(), 1.1*future_forecast['yhat_upper'].max()])




fig = model.plot_components(forecast)


viz.compare(validation['ds'],validation['y'],fullPredict,'Prophet')





train,test = loadData.splitData(data)
model = keras.models.load_model('../Models/LSTM_.h5')
XTest, yTest = loadData.processDataForLSTM(test['y'])
yPredict = model.predict(XTest)
viz.compare(np.array(data['ds']).reshape(-1,)[-len(yTest):],yTest, yPredict ,'LSTM')
