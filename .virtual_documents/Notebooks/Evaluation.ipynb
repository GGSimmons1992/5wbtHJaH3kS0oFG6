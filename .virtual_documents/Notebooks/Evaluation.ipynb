


import warnings
warnings.filterwarnings('ignore')
import tensorflow as tf
tf.get_logger().setLevel('ERROR')
import numpy as np

import matplotlib.pyplot as plt
import tensorflow.keras as keras
import json

import sys
sys.path.insert(0, "../Src/")
import loadData
import trainModel as tm
import visualization as viz

%autosave 5


data = loadData.loadData('MSFT')






viz.compareSimplePickleModel(data, 'Autoregression','ar_params')





viz.compareSimplePickleModel(data, 'ARIMA','arima_params')





viz.compareSimplePickleModel(data,'SARIMA')





viz.compareSimplePickleModel(data,'Exponential Smoothing','exponentialSmoothing_params')





train,validation = loadData.splitData(data)
with open('../Models/prophet_params.json') as f:
    params = json.load(f)
fullPredict = tm.makeFullProphetPrediction(params,train,data,periods = 10)   
#fig = model.plot(forecast)
#plt.show()
viz.compare(validation['ds'],validation['y'],fullPredict,'Prophet')





train,test = loadData.splitData(data)
model = keras.models.load_model('../Models/LSTM_.h5')
XTest, yTest = loadData.processDataForLSTM(test['y'])
yPredict = model.predict(XTest)
viz.compare(date[-len(yTest):],yTest, yPredict ,'LSTM')
