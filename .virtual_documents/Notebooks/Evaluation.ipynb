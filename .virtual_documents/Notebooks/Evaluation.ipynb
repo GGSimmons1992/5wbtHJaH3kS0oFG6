


import warnings
import tensorflow as tf
warnings.filterwarnings('ignore')
tf.get_logger().setLevel('ERROR')

import matplotlib.pyplot as plt
import tensorflow.keras as keras

import sys
sys.path.insert(0, "../Src/")
import loadData
import visualization as viz

%autosave 5


data = loadData.loadData('MSFT')






viz.compareSimplePickleModel(data, 'Autoregression','ar_params')





viz.compareSimplePickleModel(data, 'ARIMA','arima_params')





viz.compareSimplePickleModel(data,'SARIMA')





viz.compareSimplePickleModel(data,'Exponential Smoothing','exponentialSmoothing_params')





model = viz.loadModel('prophet')
future = model.make_future_dataframe(periods=test.shape[0], freq='D',include_history=False)
capValue = test['y'].max() * 1.1
future['cap'] = capValue
future['floor'] = 0
forecast = model.predict(future)
fig = model.plot(forecast)
plt.show()
viz.compare(date,validation,forecast['yhat'],'Prophet')





model = keras.models.load_model('../Models/LSTM_.h5')
XTest, yTest = loadData.processDataForLSTM(test['y'])
yPredict = model.predict(XTest)
viz.compare(date[-len(yTest):],yTest, yPredict ,'LSTM')
